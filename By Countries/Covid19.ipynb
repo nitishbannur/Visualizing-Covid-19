{
  "nbformat": 4,
  "nbformat_minor": 0,
  "metadata": {
    "colab": {
      "name": "Covid19",
      "provenance": [],
      "collapsed_sections": []
    },
    "kernelspec": {
      "name": "python3",
      "display_name": "Python 3"
    }
  },
  "cells": [
    {
      "cell_type": "code",
      "metadata": {
        "id": "qQp1v8XwaTgr",
        "colab_type": "code",
        "colab": {}
      },
      "source": [
        "import numpy as np\n",
        "import pandas as pd\n",
        "import matplotlib.pyplot as plt\n",
        "import matplotlib.ticker as ticker\n",
        "%matplotlib inline"
      ],
      "execution_count": 0,
      "outputs": []
    },
    {
      "cell_type": "code",
      "metadata": {
        "id": "9_VEZ6AQa84n",
        "colab_type": "code",
        "colab": {}
      },
      "source": [
        "df=pd.read_csv('https://raw.githubusercontent.com/datasets/covid-19/master/data/countries-aggregated.csv', parse_dates=['Date'])"
      ],
      "execution_count": 0,
      "outputs": []
    },
    {
      "cell_type": "code",
      "metadata": {
        "id": "XaO5uEKXbKKJ",
        "colab_type": "code",
        "outputId": "6a89eb0b-bd48-49b2-9f00-5623e7555715",
        "colab": {
          "base_uri": "https://localhost:8080/",
          "height": 204
        }
      },
      "source": [
        "df.head()"
      ],
      "execution_count": 0,
      "outputs": [
        {
          "output_type": "execute_result",
          "data": {
            "text/html": [
              "<div>\n",
              "<style scoped>\n",
              "    .dataframe tbody tr th:only-of-type {\n",
              "        vertical-align: middle;\n",
              "    }\n",
              "\n",
              "    .dataframe tbody tr th {\n",
              "        vertical-align: top;\n",
              "    }\n",
              "\n",
              "    .dataframe thead th {\n",
              "        text-align: right;\n",
              "    }\n",
              "</style>\n",
              "<table border=\"1\" class=\"dataframe\">\n",
              "  <thead>\n",
              "    <tr style=\"text-align: right;\">\n",
              "      <th></th>\n",
              "      <th>Date</th>\n",
              "      <th>Country</th>\n",
              "      <th>Confirmed</th>\n",
              "      <th>Recovered</th>\n",
              "      <th>Deaths</th>\n",
              "    </tr>\n",
              "  </thead>\n",
              "  <tbody>\n",
              "    <tr>\n",
              "      <th>0</th>\n",
              "      <td>2020-01-22</td>\n",
              "      <td>Afghanistan</td>\n",
              "      <td>0</td>\n",
              "      <td>0</td>\n",
              "      <td>0</td>\n",
              "    </tr>\n",
              "    <tr>\n",
              "      <th>1</th>\n",
              "      <td>2020-01-22</td>\n",
              "      <td>Albania</td>\n",
              "      <td>0</td>\n",
              "      <td>0</td>\n",
              "      <td>0</td>\n",
              "    </tr>\n",
              "    <tr>\n",
              "      <th>2</th>\n",
              "      <td>2020-01-22</td>\n",
              "      <td>Algeria</td>\n",
              "      <td>0</td>\n",
              "      <td>0</td>\n",
              "      <td>0</td>\n",
              "    </tr>\n",
              "    <tr>\n",
              "      <th>3</th>\n",
              "      <td>2020-01-22</td>\n",
              "      <td>Andorra</td>\n",
              "      <td>0</td>\n",
              "      <td>0</td>\n",
              "      <td>0</td>\n",
              "    </tr>\n",
              "    <tr>\n",
              "      <th>4</th>\n",
              "      <td>2020-01-22</td>\n",
              "      <td>Angola</td>\n",
              "      <td>0</td>\n",
              "      <td>0</td>\n",
              "      <td>0</td>\n",
              "    </tr>\n",
              "  </tbody>\n",
              "</table>\n",
              "</div>"
            ],
            "text/plain": [
              "        Date      Country  Confirmed  Recovered  Deaths\n",
              "0 2020-01-22  Afghanistan          0          0       0\n",
              "1 2020-01-22      Albania          0          0       0\n",
              "2 2020-01-22      Algeria          0          0       0\n",
              "3 2020-01-22      Andorra          0          0       0\n",
              "4 2020-01-22       Angola          0          0       0"
            ]
          },
          "metadata": {
            "tags": []
          },
          "execution_count": 32
        }
      ]
    },
    {
      "cell_type": "code",
      "metadata": {
        "id": "vD0JD_9rbPXD",
        "colab_type": "code",
        "outputId": "351d92f0-7002-4e45-9a6c-a5d6abada103",
        "colab": {
          "base_uri": "https://localhost:8080/",
          "height": 297
        }
      },
      "source": [
        "df.describe()"
      ],
      "execution_count": 0,
      "outputs": [
        {
          "output_type": "execute_result",
          "data": {
            "text/html": [
              "<div>\n",
              "<style scoped>\n",
              "    .dataframe tbody tr th:only-of-type {\n",
              "        vertical-align: middle;\n",
              "    }\n",
              "\n",
              "    .dataframe tbody tr th {\n",
              "        vertical-align: top;\n",
              "    }\n",
              "\n",
              "    .dataframe thead th {\n",
              "        text-align: right;\n",
              "    }\n",
              "</style>\n",
              "<table border=\"1\" class=\"dataframe\">\n",
              "  <thead>\n",
              "    <tr style=\"text-align: right;\">\n",
              "      <th></th>\n",
              "      <th>Confirmed</th>\n",
              "      <th>Recovered</th>\n",
              "      <th>Deaths</th>\n",
              "    </tr>\n",
              "  </thead>\n",
              "  <tbody>\n",
              "    <tr>\n",
              "      <th>count</th>\n",
              "      <td>16465.000000</td>\n",
              "      <td>16465.000000</td>\n",
              "      <td>16465.000000</td>\n",
              "    </tr>\n",
              "    <tr>\n",
              "      <th>mean</th>\n",
              "      <td>2557.712542</td>\n",
              "      <td>634.246401</td>\n",
              "      <td>145.412572</td>\n",
              "    </tr>\n",
              "    <tr>\n",
              "      <th>std</th>\n",
              "      <td>21282.068399</td>\n",
              "      <td>5370.703516</td>\n",
              "      <td>1341.217096</td>\n",
              "    </tr>\n",
              "    <tr>\n",
              "      <th>min</th>\n",
              "      <td>0.000000</td>\n",
              "      <td>0.000000</td>\n",
              "      <td>0.000000</td>\n",
              "    </tr>\n",
              "    <tr>\n",
              "      <th>25%</th>\n",
              "      <td>0.000000</td>\n",
              "      <td>0.000000</td>\n",
              "      <td>0.000000</td>\n",
              "    </tr>\n",
              "    <tr>\n",
              "      <th>50%</th>\n",
              "      <td>1.000000</td>\n",
              "      <td>0.000000</td>\n",
              "      <td>0.000000</td>\n",
              "    </tr>\n",
              "    <tr>\n",
              "      <th>75%</th>\n",
              "      <td>88.000000</td>\n",
              "      <td>5.000000</td>\n",
              "      <td>1.000000</td>\n",
              "    </tr>\n",
              "    <tr>\n",
              "      <th>max</th>\n",
              "      <td>759086.000000</td>\n",
              "      <td>88000.000000</td>\n",
              "      <td>40661.000000</td>\n",
              "    </tr>\n",
              "  </tbody>\n",
              "</table>\n",
              "</div>"
            ],
            "text/plain": [
              "           Confirmed     Recovered        Deaths\n",
              "count   16465.000000  16465.000000  16465.000000\n",
              "mean     2557.712542    634.246401    145.412572\n",
              "std     21282.068399   5370.703516   1341.217096\n",
              "min         0.000000      0.000000      0.000000\n",
              "25%         0.000000      0.000000      0.000000\n",
              "50%         1.000000      0.000000      0.000000\n",
              "75%        88.000000      5.000000      1.000000\n",
              "max    759086.000000  88000.000000  40661.000000"
            ]
          },
          "metadata": {
            "tags": []
          },
          "execution_count": 33
        }
      ]
    },
    {
      "cell_type": "code",
      "metadata": {
        "id": "2-tUgjurbSbk",
        "colab_type": "code",
        "colab": {}
      },
      "source": [
        "df['Cases']=df[['Confirmed','Recovered','Deaths']].sum(axis=1)"
      ],
      "execution_count": 0,
      "outputs": []
    },
    {
      "cell_type": "code",
      "metadata": {
        "id": "N8unRCdbbiFD",
        "colab_type": "code",
        "outputId": "d3eea23a-6de2-4a56-a205-12a1e47ef782",
        "colab": {
          "base_uri": "https://localhost:8080/",
          "height": 204
        }
      },
      "source": [
        "df.head()\n",
        "countries=['China','India','United Kingdom','Brazil','Germany','US']\n",
        "\n",
        "df=df[df['Country'].isin(countries)]\n",
        "\n",
        "df.head()"
      ],
      "execution_count": 0,
      "outputs": [
        {
          "output_type": "execute_result",
          "data": {
            "text/html": [
              "<div>\n",
              "<style scoped>\n",
              "    .dataframe tbody tr th:only-of-type {\n",
              "        vertical-align: middle;\n",
              "    }\n",
              "\n",
              "    .dataframe tbody tr th {\n",
              "        vertical-align: top;\n",
              "    }\n",
              "\n",
              "    .dataframe thead th {\n",
              "        text-align: right;\n",
              "    }\n",
              "</style>\n",
              "<table border=\"1\" class=\"dataframe\">\n",
              "  <thead>\n",
              "    <tr style=\"text-align: right;\">\n",
              "      <th></th>\n",
              "      <th>Date</th>\n",
              "      <th>Country</th>\n",
              "      <th>Confirmed</th>\n",
              "      <th>Recovered</th>\n",
              "      <th>Deaths</th>\n",
              "      <th>Cases</th>\n",
              "    </tr>\n",
              "  </thead>\n",
              "  <tbody>\n",
              "    <tr>\n",
              "      <th>23</th>\n",
              "      <td>2020-01-22</td>\n",
              "      <td>Brazil</td>\n",
              "      <td>0</td>\n",
              "      <td>0</td>\n",
              "      <td>0</td>\n",
              "      <td>0</td>\n",
              "    </tr>\n",
              "    <tr>\n",
              "      <th>36</th>\n",
              "      <td>2020-01-22</td>\n",
              "      <td>China</td>\n",
              "      <td>548</td>\n",
              "      <td>28</td>\n",
              "      <td>17</td>\n",
              "      <td>593</td>\n",
              "    </tr>\n",
              "    <tr>\n",
              "      <th>65</th>\n",
              "      <td>2020-01-22</td>\n",
              "      <td>Germany</td>\n",
              "      <td>0</td>\n",
              "      <td>0</td>\n",
              "      <td>0</td>\n",
              "      <td>0</td>\n",
              "    </tr>\n",
              "    <tr>\n",
              "      <th>78</th>\n",
              "      <td>2020-01-22</td>\n",
              "      <td>India</td>\n",
              "      <td>0</td>\n",
              "      <td>0</td>\n",
              "      <td>0</td>\n",
              "      <td>0</td>\n",
              "    </tr>\n",
              "    <tr>\n",
              "      <th>171</th>\n",
              "      <td>2020-01-22</td>\n",
              "      <td>US</td>\n",
              "      <td>1</td>\n",
              "      <td>0</td>\n",
              "      <td>0</td>\n",
              "      <td>1</td>\n",
              "    </tr>\n",
              "  </tbody>\n",
              "</table>\n",
              "</div>"
            ],
            "text/plain": [
              "          Date  Country  Confirmed  Recovered  Deaths  Cases\n",
              "23  2020-01-22   Brazil          0          0       0      0\n",
              "36  2020-01-22    China        548         28      17    593\n",
              "65  2020-01-22  Germany          0          0       0      0\n",
              "78  2020-01-22    India          0          0       0      0\n",
              "171 2020-01-22       US          1          0       0      1"
            ]
          },
          "metadata": {
            "tags": []
          },
          "execution_count": 6
        }
      ]
    },
    {
      "cell_type": "code",
      "metadata": {
        "id": "iAT-e4Rfifb4",
        "colab_type": "code",
        "colab": {}
      },
      "source": [
        "df1=df.pivot(index='Date',columns='Country',values='Cases')"
      ],
      "execution_count": 0,
      "outputs": []
    },
    {
      "cell_type": "code",
      "metadata": {
        "id": "V7bTGJUObq6E",
        "colab_type": "code",
        "colab": {}
      },
      "source": [
        "df1=df.pivot(index='Date',columns='Country',values='Cases')\n",
        "countries=list(df1.columns)\n",
        "covid = df1.reset_index('Date')\n",
        "covid.set_index(['Date'], inplace=True)\n",
        "covid.columns = countries\n"
      ],
      "execution_count": 0,
      "outputs": []
    },
    {
      "cell_type": "code",
      "metadata": {
        "id": "0KerL9u5b2QX",
        "colab_type": "code",
        "outputId": "86b56c15-d254-48f3-9b6c-f65044f482de",
        "colab": {
          "base_uri": "https://localhost:8080/",
          "height": 235
        }
      },
      "source": [
        "covid.head()"
      ],
      "execution_count": 0,
      "outputs": [
        {
          "output_type": "execute_result",
          "data": {
            "text/html": [
              "<div>\n",
              "<style scoped>\n",
              "    .dataframe tbody tr th:only-of-type {\n",
              "        vertical-align: middle;\n",
              "    }\n",
              "\n",
              "    .dataframe tbody tr th {\n",
              "        vertical-align: top;\n",
              "    }\n",
              "\n",
              "    .dataframe thead th {\n",
              "        text-align: right;\n",
              "    }\n",
              "</style>\n",
              "<table border=\"1\" class=\"dataframe\">\n",
              "  <thead>\n",
              "    <tr style=\"text-align: right;\">\n",
              "      <th></th>\n",
              "      <th>Brazil</th>\n",
              "      <th>China</th>\n",
              "      <th>Germany</th>\n",
              "      <th>India</th>\n",
              "      <th>US</th>\n",
              "      <th>United Kingdom</th>\n",
              "    </tr>\n",
              "    <tr>\n",
              "      <th>Date</th>\n",
              "      <th></th>\n",
              "      <th></th>\n",
              "      <th></th>\n",
              "      <th></th>\n",
              "      <th></th>\n",
              "      <th></th>\n",
              "    </tr>\n",
              "  </thead>\n",
              "  <tbody>\n",
              "    <tr>\n",
              "      <th>2020-01-22</th>\n",
              "      <td>0</td>\n",
              "      <td>593</td>\n",
              "      <td>0</td>\n",
              "      <td>0</td>\n",
              "      <td>1</td>\n",
              "      <td>0</td>\n",
              "    </tr>\n",
              "    <tr>\n",
              "      <th>2020-01-23</th>\n",
              "      <td>0</td>\n",
              "      <td>691</td>\n",
              "      <td>0</td>\n",
              "      <td>0</td>\n",
              "      <td>1</td>\n",
              "      <td>0</td>\n",
              "    </tr>\n",
              "    <tr>\n",
              "      <th>2020-01-24</th>\n",
              "      <td>0</td>\n",
              "      <td>982</td>\n",
              "      <td>0</td>\n",
              "      <td>0</td>\n",
              "      <td>2</td>\n",
              "      <td>0</td>\n",
              "    </tr>\n",
              "    <tr>\n",
              "      <th>2020-01-25</th>\n",
              "      <td>0</td>\n",
              "      <td>1487</td>\n",
              "      <td>0</td>\n",
              "      <td>0</td>\n",
              "      <td>2</td>\n",
              "      <td>0</td>\n",
              "    </tr>\n",
              "    <tr>\n",
              "      <th>2020-01-26</th>\n",
              "      <td>0</td>\n",
              "      <td>2180</td>\n",
              "      <td>0</td>\n",
              "      <td>0</td>\n",
              "      <td>5</td>\n",
              "      <td>0</td>\n",
              "    </tr>\n",
              "  </tbody>\n",
              "</table>\n",
              "</div>"
            ],
            "text/plain": [
              "            Brazil  China  Germany  India  US  United Kingdom\n",
              "Date                                                         \n",
              "2020-01-22       0    593        0      0   1               0\n",
              "2020-01-23       0    691        0      0   1               0\n",
              "2020-01-24       0    982        0      0   2               0\n",
              "2020-01-25       0   1487        0      0   2               0\n",
              "2020-01-26       0   2180        0      0   5               0"
            ]
          },
          "metadata": {
            "tags": []
          },
          "execution_count": 9
        }
      ]
    },
    {
      "cell_type": "code",
      "metadata": {
        "id": "Wwv89WJIb5UX",
        "colab_type": "code",
        "colab": {}
      },
      "source": [
        "#Too many countries, only taking the required ones"
      ],
      "execution_count": 0,
      "outputs": []
    },
    {
      "cell_type": "code",
      "metadata": {
        "id": "37wNbuHqcMN6",
        "colab_type": "code",
        "colab": {}
      },
      "source": [
        "#for cases per thousand\n",
        "populations = {'Canada':37664517, 'Germany': 83721496 , 'United Kingdom': 67802690 , 'US': 330548815, 'France': 65239883, 'China':1438027228,'India':1358027228,\n",
        "               'Brazil':209500000}\n",
        "\n",
        "per100k=df1.copy()\n",
        "\n",
        "for col in df1.columns:\n",
        "   per100k[col]=(df1[col]/populations[col])*100000"
      ],
      "execution_count": 0,
      "outputs": []
    },
    {
      "cell_type": "code",
      "metadata": {
        "id": "ELgwihX2fOVU",
        "colab_type": "code",
        "outputId": "71db64c8-89cc-4297-c0ef-df10ca737edd",
        "colab": {
          "base_uri": "https://localhost:8080/",
          "height": 586
        }
      },
      "source": [
        "colors={'India':'#87ceeb','Brazil':'#045275', 'China':'#089099',  'Germany':'#FCDE9C', 'US':'#DC3977', 'United Kingdom':'#7C1D6F'}\n",
        "plt.style.use('fivethirtyeight')\n",
        "\n",
        "\n",
        "plot=covid.plot(figsize=(12,8),color=list(colors.values()), linewidth=5, legend=False)\n",
        "plot.yaxis.set_major_formatter(ticker.StrMethodFormatter('{x:,.0f}'))\n",
        "plot.set_xlabel('Dates')\n",
        "plot.set_ylabel('Cases')\n",
        "plot.grid(color='#d4d4d4')\n",
        "\n",
        "\n",
        "\n",
        "for country in list(colors.keys()):\n",
        "    plot.text(x = df1.index[-1], y = df1[country].max(), color = colors[country], s = country, weight = 'bold')\n"
      ],
      "execution_count": 0,
      "outputs": [
        {
          "output_type": "display_data",
          "data": {
            "image/png": "[encoded data removed]",
            "text/plain": [
              "<Figure size 864x576 with 1 Axes>"
            ]
          },
          "metadata": {
            "tags": []
          }
        }
      ]
    },
    {
      "cell_type": "code",
      "metadata": {
        "id": "ZuFtJJwkg-Gv",
        "colab_type": "code",
        "outputId": "3966d977-6b9c-497a-b517-3281b2535198",
        "colab": {
          "base_uri": "https://localhost:8080/",
          "height": 235
        }
      },
      "source": [
        "df1.head()"
      ],
      "execution_count": 0,
      "outputs": [
        {
          "output_type": "execute_result",
          "data": {
            "text/html": [
              "<div>\n",
              "<style scoped>\n",
              "    .dataframe tbody tr th:only-of-type {\n",
              "        vertical-align: middle;\n",
              "    }\n",
              "\n",
              "    .dataframe tbody tr th {\n",
              "        vertical-align: top;\n",
              "    }\n",
              "\n",
              "    .dataframe thead th {\n",
              "        text-align: right;\n",
              "    }\n",
              "</style>\n",
              "<table border=\"1\" class=\"dataframe\">\n",
              "  <thead>\n",
              "    <tr style=\"text-align: right;\">\n",
              "      <th>Country</th>\n",
              "      <th>Brazil</th>\n",
              "      <th>China</th>\n",
              "      <th>Germany</th>\n",
              "      <th>India</th>\n",
              "      <th>US</th>\n",
              "      <th>United Kingdom</th>\n",
              "    </tr>\n",
              "    <tr>\n",
              "      <th>Date</th>\n",
              "      <th></th>\n",
              "      <th></th>\n",
              "      <th></th>\n",
              "      <th></th>\n",
              "      <th></th>\n",
              "      <th></th>\n",
              "    </tr>\n",
              "  </thead>\n",
              "  <tbody>\n",
              "    <tr>\n",
              "      <th>2020-01-22</th>\n",
              "      <td>0</td>\n",
              "      <td>593</td>\n",
              "      <td>0</td>\n",
              "      <td>0</td>\n",
              "      <td>1</td>\n",
              "      <td>0</td>\n",
              "    </tr>\n",
              "    <tr>\n",
              "      <th>2020-01-23</th>\n",
              "      <td>0</td>\n",
              "      <td>691</td>\n",
              "      <td>0</td>\n",
              "      <td>0</td>\n",
              "      <td>1</td>\n",
              "      <td>0</td>\n",
              "    </tr>\n",
              "    <tr>\n",
              "      <th>2020-01-24</th>\n",
              "      <td>0</td>\n",
              "      <td>982</td>\n",
              "      <td>0</td>\n",
              "      <td>0</td>\n",
              "      <td>2</td>\n",
              "      <td>0</td>\n",
              "    </tr>\n",
              "    <tr>\n",
              "      <th>2020-01-25</th>\n",
              "      <td>0</td>\n",
              "      <td>1487</td>\n",
              "      <td>0</td>\n",
              "      <td>0</td>\n",
              "      <td>2</td>\n",
              "      <td>0</td>\n",
              "    </tr>\n",
              "    <tr>\n",
              "      <th>2020-01-26</th>\n",
              "      <td>0</td>\n",
              "      <td>2180</td>\n",
              "      <td>0</td>\n",
              "      <td>0</td>\n",
              "      <td>5</td>\n",
              "      <td>0</td>\n",
              "    </tr>\n",
              "  </tbody>\n",
              "</table>\n",
              "</div>"
            ],
            "text/plain": [
              "Country     Brazil  China  Germany  India  US  United Kingdom\n",
              "Date                                                         \n",
              "2020-01-22       0    593        0      0   1               0\n",
              "2020-01-23       0    691        0      0   1               0\n",
              "2020-01-24       0    982        0      0   2               0\n",
              "2020-01-25       0   1487        0      0   2               0\n",
              "2020-01-26       0   2180        0      0   5               0"
            ]
          },
          "metadata": {
            "tags": []
          },
          "execution_count": 13
        }
      ]
    },
    {
      "cell_type": "code",
      "metadata": {
        "id": "PnZNimcSh_Yv",
        "colab_type": "code",
        "outputId": "d77d0b13-0509-456d-a173-206f33ac180b",
        "colab": {
          "base_uri": "https://localhost:8080/",
          "height": 235
        }
      },
      "source": [
        "df1.tail()"
      ],
      "execution_count": 0,
      "outputs": [
        {
          "output_type": "execute_result",
          "data": {
            "text/html": [
              "<div>\n",
              "<style scoped>\n",
              "    .dataframe tbody tr th:only-of-type {\n",
              "        vertical-align: middle;\n",
              "    }\n",
              "\n",
              "    .dataframe tbody tr th {\n",
              "        vertical-align: top;\n",
              "    }\n",
              "\n",
              "    .dataframe thead th {\n",
              "        text-align: right;\n",
              "    }\n",
              "</style>\n",
              "<table border=\"1\" class=\"dataframe\">\n",
              "  <thead>\n",
              "    <tr style=\"text-align: right;\">\n",
              "      <th>Country</th>\n",
              "      <th>Brazil</th>\n",
              "      <th>China</th>\n",
              "      <th>Germany</th>\n",
              "      <th>India</th>\n",
              "      <th>US</th>\n",
              "      <th>United Kingdom</th>\n",
              "    </tr>\n",
              "    <tr>\n",
              "      <th>Date</th>\n",
              "      <th></th>\n",
              "      <th></th>\n",
              "      <th></th>\n",
              "      <th></th>\n",
              "      <th></th>\n",
              "      <th></th>\n",
              "    </tr>\n",
              "  </thead>\n",
              "  <tbody>\n",
              "    <tr>\n",
              "      <th>2020-04-15</th>\n",
              "      <td>44082</td>\n",
              "      <td>165013</td>\n",
              "      <td>211157</td>\n",
              "      <td>14159</td>\n",
              "      <td>716771</td>\n",
              "      <td>112745</td>\n",
              "    </tr>\n",
              "    <tr>\n",
              "      <th>2020-04-16</th>\n",
              "      <td>46375</td>\n",
              "      <td>165150</td>\n",
              "      <td>218750</td>\n",
              "      <td>15646</td>\n",
              "      <td>755211</td>\n",
              "      <td>118279</td>\n",
              "    </tr>\n",
              "    <tr>\n",
              "      <th>2020-04-17</th>\n",
              "      <td>49849</td>\n",
              "      <td>165948</td>\n",
              "      <td>228863</td>\n",
              "      <td>16879</td>\n",
              "      <td>795024</td>\n",
              "      <td>124770</td>\n",
              "    </tr>\n",
              "    <tr>\n",
              "      <th>2020-04-18</th>\n",
              "      <td>53038</td>\n",
              "      <td>166037</td>\n",
              "      <td>233201</td>\n",
              "      <td>18706</td>\n",
              "      <td>835701</td>\n",
              "      <td>131226</td>\n",
              "    </tr>\n",
              "    <tr>\n",
              "      <th>2020-04-19</th>\n",
              "      <td>63246</td>\n",
              "      <td>166131</td>\n",
              "      <td>237770</td>\n",
              "      <td>21028</td>\n",
              "      <td>870084</td>\n",
              "      <td>137703</td>\n",
              "    </tr>\n",
              "  </tbody>\n",
              "</table>\n",
              "</div>"
            ],
            "text/plain": [
              "Country     Brazil   China  Germany  India      US  United Kingdom\n",
              "Date                                                              \n",
              "2020-04-15   44082  165013   211157  14159  716771          112745\n",
              "2020-04-16   46375  165150   218750  15646  755211          118279\n",
              "2020-04-17   49849  165948   228863  16879  795024          124770\n",
              "2020-04-18   53038  166037   233201  18706  835701          131226\n",
              "2020-04-19   63246  166131   237770  21028  870084          137703"
            ]
          },
          "metadata": {
            "tags": []
          },
          "execution_count": 35
        }
      ]
    },
    {
      "cell_type": "code",
      "metadata": {
        "id": "8krblRKQhgOn",
        "colab_type": "code",
        "outputId": "3bce4cb4-8174-4a15-bce7-2aec436213bc",
        "colab": {
          "base_uri": "https://localhost:8080/",
          "height": 102
        }
      },
      "source": [
        "from datetime import datetime,timedelta\n",
        "\n",
        "today=datetime.today().strftime('%Y-%m-%d')\n",
        "lastfive=df1.copy()\n",
        "five=datetime.today()-timedelta(days=5)\n",
        "five=five.strftime('%Y-%m-%d')\n",
        "\n",
        "print(\"Today is\",today)\n",
        "print(\"5\",five)\n",
        "\n",
        "lastfive=lastfive['2020-04-19':'2020-04-14']\n",
        "\n",
        "print(lastfive)"
      ],
      "execution_count": 0,
      "outputs": [
        {
          "output_type": "stream",
          "text": [
            "Today is 2020-04-20\n",
            "5 2020-04-15\n",
            "Empty DataFrame\n",
            "Columns: [Brazil, China, Germany, India, US, United Kingdom]\n",
            "Index: []\n"
          ],
          "name": "stdout"
        }
      ]
    },
    {
      "cell_type": "code",
      "metadata": {
        "id": "M7iy8fIShwZr",
        "colab_type": "code",
        "outputId": "f5b0a06f-8cf7-4c16-aae6-37f2dfc049c2",
        "colab": {
          "base_uri": "https://localhost:8080/",
          "height": 569
        }
      },
      "source": [
        "colors={'India':'#87ceeb','Brazil':'#045275', 'China':'#089099',  'Germany':'#FCDE9C', 'US':'#DC3977', 'United Kingdom':'#7C1D6F'}\n",
        "plt.style.use('fivethirtyeight')\n",
        "\n",
        "temp=df1.tail()\n",
        "plot=temp.plot(figsize=(12,8),color=list(colors.values()), linewidth=5, legend=False)\n",
        "plot.yaxis.set_major_formatter(ticker.StrMethodFormatter('{x:,.0f}'))\n",
        "plot.set_xlabel('Dates')\n",
        "plot.set_ylabel('Cases')\n",
        "\n",
        "plot.grid(color='#717aa6',linestyle='--',which='both')\n",
        "\n",
        "\n",
        "\n",
        "for country in list(colors.keys()):\n",
        "    plot.text(x = df1.index[-1], y = df1[country].max(), color = colors[country], s = country, weight = 'bold')"
      ],
      "execution_count": 0,
      "outputs": [
        {
          "output_type": "display_data",
          "data": {
            "image/png": "[encoded data removed]",
            "text/plain": [
              "<Figure size 864x576 with 1 Axes>"
            ]
          },
          "metadata": {
            "tags": []
          }
        }
      ]
    },
    {
      "cell_type": "code",
      "metadata": {
        "id": "01SHFsJ2jICo",
        "colab_type": "code",
        "outputId": "f689b192-960d-4b59-f10c-00a3e443c781",
        "colab": {
          "base_uri": "https://localhost:8080/",
          "height": 34
        }
      },
      "source": [
        ""
      ],
      "execution_count": 0,
      "outputs": [
        {
          "output_type": "execute_result",
          "data": {
            "text/plain": [
              "dict_values(['#87ceeb', '#045275', '#089099', '#FCDE9C', '#DC3977', '#7C1D6F'])"
            ]
          },
          "metadata": {
            "tags": []
          },
          "execution_count": 46
        }
      ]
    },
    {
      "cell_type": "code",
      "metadata": {
        "id": "fzXgtL9imaSZ",
        "colab_type": "code",
        "colab": {}
      },
      "source": [
        ""
      ],
      "execution_count": 0,
      "outputs": []
    }
  ]
}